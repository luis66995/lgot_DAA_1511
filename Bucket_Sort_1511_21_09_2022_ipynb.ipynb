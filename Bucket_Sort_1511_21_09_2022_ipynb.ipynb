{
  "nbformat": 4,
  "nbformat_minor": 0,
  "metadata": {
    "colab": {
      "private_outputs": true,
      "provenance": [],
      "authorship_tag": "ABX9TyPu4Clt1ML/gU2MsOhL/5+H",
      "include_colab_link": true
    },
    "kernelspec": {
      "name": "python3",
      "display_name": "Python 3"
    },
    "language_info": {
      "name": "python"
    }
  },
  "cells": [
    {
      "cell_type": "markdown",
      "metadata": {
        "id": "view-in-github",
        "colab_type": "text"
      },
      "source": [
        "<a href=\"https://colab.research.google.com/github/luis66995/lgot_DAA_1511/blob/main/Bucket_Sort_1511_21_09_2022_ipynb.ipynb\" target=\"_parent\"><img src=\"https://colab.research.google.com/assets/colab-badge.svg\" alt=\"Open In Colab\"/></a>"
      ]
    },
    {
      "cell_type": "code",
      "execution_count": null,
      "metadata": {
        "id": "Ieg3VkCjDPbv"
      },
      "outputs": [],
      "source": [
        "\n",
        "def seleccion (lista):\n",
        "    for n in range(len(lista) - 1, 0, -1):\n",
        "        pio = 0\n",
        "\n",
        "        for l in range (1, n + 1):\n",
        "            if lista[l] > lista[pio]:\n",
        "                pio = l\n",
        "\n",
        "        temp = lista[n]\n",
        "        lista[n]=lista[pio]\n",
        "        lista[pio]= temp\n",
        "def bucketSort(datos,cubetas):\n",
        "  x=None\n",
        "  espacios=10\n",
        "  contador =0\n",
        "  cubetas=[]\n",
        "\n",
        "\n",
        "  for i in range(0,10,1):\n",
        "    cubetas.append([])\n",
        "    for indice in range(len(datos)):\n",
        "      num=datos[indice]//espacios\n",
        "      cubetas[num].append(datos[indice])\n",
        "  for recorrido in range(len(cubetas)):\n",
        "    x=seleccion(cubetas[recorrido])\n",
        "    cubetas[recorrido]=x\n",
        "\n",
        "bucketSort(([4,5,1,2,33,55,22,64,25,67,22,45,77,88,11,1]),10)\n",
        "\n"
      ]
    }
  ]
}