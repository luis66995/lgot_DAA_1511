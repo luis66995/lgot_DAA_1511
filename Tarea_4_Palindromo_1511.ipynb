{
  "nbformat": 4,
  "nbformat_minor": 0,
  "metadata": {
    "colab": {
      "private_outputs": true,
      "provenance": [],
      "authorship_tag": "ABX9TyPKRvKWxiR3ajz9mDyPX9VF",
      "include_colab_link": true
    },
    "kernelspec": {
      "name": "python3",
      "display_name": "Python 3"
    },
    "language_info": {
      "name": "python"
    }
  },
  "cells": [
    {
      "cell_type": "markdown",
      "metadata": {
        "id": "view-in-github",
        "colab_type": "text"
      },
      "source": [
        "<a href=\"https://colab.research.google.com/github/luis66995/lgot_DAA_1511/blob/main/Tarea_4_Palindromo_1511.ipynb\" target=\"_parent\"><img src=\"https://colab.research.google.com/assets/colab-badge.svg\" alt=\"Open In Colab\"/></a>"
      ]
    },
    {
      "cell_type": "code",
      "execution_count": null,
      "metadata": {
        "id": "B63_JJBJSC0n"
      },
      "outputs": [],
      "source": [
        "def correrPalindromo():\n",
        "    contador = 0\n",
        "    for i in range(23):      \n",
        "        for j in range(60): \n",
        "            for k in range(60): \n",
        "                RecorrContrario = str(i).zfill(2) + ':' + str(j).zfill(2) + ':' + str(k).zfill(2) \n",
        "                if RecorrContrario == RecorrContrario[::-1]: \n",
        "                    print(f'{RecorrContrario}') \n",
        "                    contador += 1  #\n",
        "    print(f'Toatal de palindromos: {contador}')\n",
        "\n",
        "if __name__ == \"__main__\":\n",
        "    correrPalindromo()"
      ]
    }
  ]
}