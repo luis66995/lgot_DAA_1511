{
  "nbformat": 4,
  "nbformat_minor": 0,
  "metadata": {
    "colab": {
      "name": "Ejercicio02_DAA.ipynb",
      "private_outputs": true,
      "provenance": [],
      "authorship_tag": "ABX9TyMqUVKFca4Fj+XGv2+ZaCBS",
      "include_colab_link": true
    },
    "kernelspec": {
      "name": "python3",
      "display_name": "Python 3"
    },
    "language_info": {
      "name": "python"
    }
  },
  "cells": [
    {
      "cell_type": "markdown",
      "metadata": {
        "id": "view-in-github",
        "colab_type": "text"
      },
      "source": [
        "<a href=\"https://colab.research.google.com/github/luis66995/lgot_DAA_1511/blob/main/Ejercicio02_DAA.ipynb\" target=\"_parent\"><img src=\"https://colab.research.google.com/assets/colab-badge.svg\" alt=\"Open In Colab\"/></a>"
      ]
    },
    {
      "cell_type": "code",
      "source": [
        "\"\"\" \n",
        "Se requiere controlar el número de habitantes de un edificio con 6 pisos y 4 puertas (A, B, C Y D) en cada piso.\n",
        "Se deberá realizar un programa que pida al usuario que introduzca el numero de habitantes de cada puerta del edificio. \n",
        "El programa debe decir la puerta que más habitantes tiene todo el edificio.\n",
        "\"\"\"\n",
        "\n",
        "import numpy as np\n",
        "hab_list=[]\n",
        "\n",
        "contador=1\n",
        "\n",
        "for puerta in range(1,5):\n",
        "  for recorrido in range( contador):\n",
        "    habitant=int(input(f\"Ingresa el numero de habitantes para la puerta {puerta} correspondiente: \"))\n",
        "mayor=hab_list[0]\n",
        "for x in range(0,25):\n",
        "  if  hab_list[x]>mayor:\n",
        "    mayor=hab_list[x]\n",
        "print(mayor)"
      ],
      "metadata": {
        "id": "5nr9XcnRLN2y"
      },
      "execution_count": null,
      "outputs": []
    }
  ]
}