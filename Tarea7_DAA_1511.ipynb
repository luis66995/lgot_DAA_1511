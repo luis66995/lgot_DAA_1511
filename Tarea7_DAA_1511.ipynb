{
  "nbformat": 4,
  "nbformat_minor": 0,
  "metadata": {
    "colab": {
      "private_outputs": true,
      "provenance": [],
      "authorship_tag": "ABX9TyN8+rNOVoaRDUycoVYzoDAg",
      "include_colab_link": true
    },
    "kernelspec": {
      "name": "python3",
      "display_name": "Python 3"
    },
    "language_info": {
      "name": "python"
    }
  },
  "cells": [
    {
      "cell_type": "markdown",
      "metadata": {
        "id": "view-in-github",
        "colab_type": "text"
      },
      "source": [
        "<a href=\"https://colab.research.google.com/github/luis66995/lgot_DAA_1511/blob/main/Tarea7_DAA_1511.ipynb\" target=\"_parent\"><img src=\"https://colab.research.google.com/assets/colab-badge.svg\" alt=\"Open In Colab\"/></a>"
      ]
    },
    {
      "cell_type": "markdown",
      "source": [
        "Elaborar un algoritmo por fuerza bruta que pueda encontrar un patrón dentro de una cadena.\n",
        "\n",
        "La cadena es:\n",
        "1110010001101110100011001111000110001110001110001110100011010001110001110001110001110001110001110001110001110001110001110001110001110001110001110001110001110001110001110001110001110001110001110001110001110001110001110001110001110001110001110001110001110001101000111110101010100111100011000\n",
        "\n",
        "Patrón a encontrar:\n",
        "1010101\n"
      ],
      "metadata": {
        "id": "GbFB-rIQJlwJ"
      }
    },
    {
      "cell_type": "code",
      "source": [
        "def fuerza_bruta(entrada, patron_a_buscar):\n",
        "  for recorre in range(len(entrada) - len(patron_a_buscar) + 1):\n",
        "    for j in range(len(patron_a_buscar)):\n",
        "      if patron_a_buscar[j] == entrada[recorre + j]:\n",
        "        pass\n",
        "      else:\n",
        "        break\n",
        "    cont=0\n",
        "    if j + 1 == len(patron_a_buscar) and entrada[recorre + j] == patron_a_buscar[j]:\n",
        "      print(f\"Se encontro en la posicion: {recorre}\")\n",
        "      cont +=1\n",
        "      print(cont)\n",
        "      \n",
        "\n",
        "entrada =\"1110010001101110100011001111000110001110001110001110100011010001110001110001110001110001110001110001110001110001110001110001110001110001110001110001110001110001110001110001110001110001110001110001110001110001110001110001110001110001110001110001110001110001101000111110101010100111100011000\"\n",
        "print(\"total de caracteres:\", len(entrada))\n",
        "patron_a_buscar =\"1010101\"\n",
        "fuerza_bruta(entrada, patron_a_buscar)"
      ],
      "metadata": {
        "id": "JvuC-HF-RJwZ"
      },
      "execution_count": null,
      "outputs": []
    }
  ]
}